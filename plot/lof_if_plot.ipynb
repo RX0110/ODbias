{
 "cells": [
  {
   "cell_type": "code",
   "execution_count": null,
   "metadata": {},
   "outputs": [],
   "source": [
    "import sys\n",
    "sys.path.append('..')\n",
    "import utils.matrix as matrix\n",
    "import utils.matrix_plot as matrix_plot"
   ]
  },
  {
   "cell_type": "code",
   "execution_count": null,
   "metadata": {},
   "outputs": [],
   "source": [
    "bias_type = \"base rate change\" # base rate change/sample size bias/under representation/mean shift/variance inflation_add_max6/obfuscation_bias/ obfuscation_bias_both_same/ obfuscation_bias_both_diff\n",
    "data_type = \"scatter\" #scatter / cluster\n",
    "method = \"LOF\" # Isolation Forest/ LOF\n",
    "\n",
    "if bias_type == \"sample size bias\":\n",
    "    axis_title = r'$\\beta_s$'\n",
    "elif bias_type == \"under representation\":\n",
    "    axis_title = r'$\\beta_u$'\n",
    "elif bias_type == \"variance inflation_add_max6\":\n",
    "    axis_title = r'$\\beta_v$'\n",
    "elif bias_type == \"mean shift\":\n",
    "    axis_title = r'$\\beta_m$'\n",
    "elif bias_type == \"base rate change\":\n",
    "    axis_title = r'$\\beta_b$'\n",
    "else: \n",
    "    axis_title = r'$\\beta_g$'\n",
    "\n",
    "x_axis, base_ratea, base_rateb, flag_rate_a, flag_rate_b, flag_rate_whole, \\\n",
    "    recall_a, recall_b, tpr_whole, fpr_a, fpr_b, fpr_whole, ppr_a, ppr_b, \\\n",
    "        ppr_whole, auroc \\\n",
    "          = matrix.read_data(f'result/new_results/{bias_type}/{data_type}/{method}.json')\n"
   ]
  },
  {
   "cell_type": "code",
   "execution_count": null,
   "metadata": {},
   "outputs": [],
   "source": [
    "# under_representation\n",
    "# base_rateb = []\n",
    "# for i in beta_u:\n",
    "#     base_rateb.append(100*(1-i)/1000)\n",
    "# print(base_rateb)\n",
    "# base_ratea = [base_ratea] * len(beta_u)"
   ]
  },
  {
   "cell_type": "code",
   "execution_count": null,
   "metadata": {},
   "outputs": [],
   "source": [
    "tpr_whole_mean = matrix.get_mean(tpr_whole)\n",
    "fpr_whole_mean = matrix.get_mean(fpr_whole)\n",
    "ppr_whole_mean = matrix.get_mean(ppr_whole)"
   ]
  },
  {
   "cell_type": "code",
   "execution_count": null,
   "metadata": {},
   "outputs": [],
   "source": [
    "matrix_plot.plot_line_final(axis_title, x_axis, flag_rate_b, flag_rate_a, base_rateb, base_ratea, recall_b, recall_a, tpr_whole, fpr_b, fpr_a, fpr_whole, ppr_b, ppr_a, ppr_whole)\n",
    "\n",
    "matrix_plot.fr(axis_title, x_axis, flag_rate_a, flag_rate_b, base_ratea, base_rateb)\n",
    "matrix_plot.tpr(axis_title, x_axis, flag_rate_a, flag_rate_b, recall_a, recall_b, tpr_whole)\n",
    "matrix_plot.fpr(axis_title, x_axis, flag_rate_a, flag_rate_b, fpr_a, fpr_b, fpr_whole)\n",
    "matrix_plot.prec(axis_title, x_axis, flag_rate_a, flag_rate_b, ppr_a, ppr_b, ppr_whole)\n",
    "\n",
    "matrix_plot.auroc(auroc, x_axis, axis_title)\n",
    "\n",
    "matrix_plot.fr_legend(axis_title, x_axis, flag_rate_a, flag_rate_b, base_ratea, base_rateb)\n",
    "\n",
    "# base rate\n",
    "# matrix_plot.plot_line_final(axis_title, x_axis, flag_rate_b, flag_rate_a, base_rateb, base_ratea, recall_b, recall_a, tpr_whole, fpr_b, fpr_a, fpr_whole, ppr_b, ppr_a, ppr_whole)\n",
    "\n",
    "# matrix_plot.fr(axis_title, x_axis, flag_rate_b, flag_rate_a, base_rateb, base_ratea)\n",
    "# matrix_plot.tpr(axis_title, x_axis, flag_rate_b, flag_rate_a, recall_b, recall_a, tpr_whole)\n",
    "# matrix_plot.fpr(axis_title, x_axis, flag_rate_b, flag_rate_a, fpr_b, fpr_a, fpr_whole)\n",
    "# matrix_plot.prec(axis_title, x_axis, flag_rate_b, flag_rate_a, ppr_b, ppr_a, ppr_whole)\n",
    "# matrix_plot.auroc(auroc, x_axis, axis_title)\n",
    "# matrix_plot.fr_legend(axis_title, x_axis, flag_rate_b, flag_rate_a, base_rateb, base_ratea)\n"
   ]
  }
 ],
 "metadata": {
  "language_info": {
   "name": "python"
  }
 },
 "nbformat": 4,
 "nbformat_minor": 2
}
