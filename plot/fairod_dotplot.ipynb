{
 "cells": [
  {
   "cell_type": "code",
   "execution_count": 2,
   "metadata": {},
   "outputs": [],
   "source": [
    "# import package\n",
    "import sys\n",
    "sys.path.append('..')\n",
    "import utils.matrix as matrix\n",
    "import utils.matrix_plot as matrix_plot\n",
    "%matplotlib inline"
   ]
  },
  {
   "cell_type": "code",
   "execution_count": 3,
   "metadata": {},
   "outputs": [
    {
     "name": "stdout",
     "output_type": "stream",
     "text": [
      "alpha: ['0.05', '0.05', '0.2', '0.05', '0.2', '0.05']\n",
      "gamma: ['0.01', '0.01', '0.01', '0.01', '0.01', '0.2']\n"
     ]
    }
   ],
   "source": [
    "method = \"FairOD\"\n",
    "bias_type = \"obfuscation_bias\"\n",
    "data_type = \"cluster\"\n",
    "beta_s =[ 0.01, 0.05, 0.10, 0.2, 0.4,  0.6, 0.8]\n",
    "beta_v = [0, 0.05, 0.1, 0.2, 0.5, 1, 2, 4, 6]\n",
    "beta_v_s = [0, 0.05, 0.1, 0.2, 0.5, 1, 1.5, 2, 3]\n",
    "prop_b = [1,2,3,4]\n",
    "beta_o =  [0.05, 0.1, 0.15, 0.2, 0.3, 0.4]\n",
    "\n",
    "path = f'../result/{method}_distance/{bias_type}/{data_type}/distance.json'\n",
    "alpha, gamma = matrix.get_optimal_from_distance(path)\n",
    "print('alpha:', alpha)\n",
    "print('gamma:', gamma)\n",
    "# for i in beta_s:\n",
    "#     path = f'../result/{method}_dot/{bias_type}/{data_type}/biasRate_{i}.json'\n",
    "#     flag_ratio, tpr_ratio, auroc, key = matrix.read_dot(path)\n",
    "#     matrix_plot.plot_dot(flag_ratio, tpr_ratio, auroc, key)"
   ]
  },
  {
   "cell_type": "code",
   "execution_count": null,
   "metadata": {},
   "outputs": [],
   "source": [
    "method = \"FairOD\"\n",
    "bias_type = \"obfuscation_bias\"\n",
    "data_type = \"scatter\"\n",
    "beta_s =[ 0.01, 0.05, 0.10, 0.2, 0.4,  0.6, 0.8]\n",
    "beta_v = [0, 0.05, 0.1, 0.2, 0.5, 1, 2, 4, 6]\n",
    "beta_v_s = [0, 0.05, 0.1, 0.2, 0.5, 1, 1.5, 2, 3]\n",
    "prop_b = [1,2,3,4]\n",
    "beta_o =  [0.05, 0.1, 0.15, 0.2, 0.3, 0.4]\n",
    "for i in beta_o:\n",
    "    path = f'../result/FairOD_dot/{bias_type}/{data_type}/biasRate_{i}.json'\n",
    "    flag_ratio, tpr_ratio, auroc, key = matrix.read_dot(path)\n",
    "    matrix_plot.plot_dot(flag_ratio, tpr_ratio, auroc, key)"
   ]
  }
 ],
 "metadata": {
  "kernelspec": {
   "display_name": "rui",
   "language": "python",
   "name": "python3"
  },
  "language_info": {
   "codemirror_mode": {
    "name": "ipython",
    "version": 3
   },
   "file_extension": ".py",
   "mimetype": "text/x-python",
   "name": "python",
   "nbconvert_exporter": "python",
   "pygments_lexer": "ipython3",
   "version": "3.11.7"
  }
 },
 "nbformat": 4,
 "nbformat_minor": 2
}
